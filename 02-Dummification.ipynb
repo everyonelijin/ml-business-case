{
 "cells": [
  {
   "cell_type": "code",
   "execution_count": 1,
   "metadata": {
    "collapsed": false
   },
   "outputs": [
    {
     "name": "stdout",
     "output_type": "stream",
     "text": [
      "skipping column v22\n"
     ]
    }
   ],
   "source": [
    "#dummification of the categorical variables except for the v22 variable.\n",
    "\n",
    "import numpy as np\n",
    "import pandas as pd\n",
    "\n",
    "df = pd.read_csv('train.csv', index_col='ID')\n",
    "nonnum_cols = {}\n",
    "\n",
    "for i in range(1, 132):\n",
    "    if type(df['v' + str(i)].iloc[0]) != np.float64:\n",
    "        nonnum_cols['v' + str(i)] = df['v' + str(i)].unique()\n",
    "\n",
    "i = 0\n",
    "for col in nonnum_cols:\n",
    "    if len(nonnum_cols[col]) > 1000:\n",
    "        print(\"skipping column %s\"%col)\n",
    "        continue\n",
    "    threshold = .01 * len(df) / len(nonnum_cols[col])\n",
    "    dums = pd.get_dummies(df[col])\n",
    "    frequency = dums.sum()\n",
    "    a = frequency > threshold\n",
    "    \n",
    "    todrop = []\n",
    "    for c in nonnum_cols[col]:\n",
    "        if type(c)==float and np.isnan(c):\n",
    "            pass\n",
    "        elif not a[c]:\n",
    "            todrop.append(c)\n",
    "    dums.drop(todrop, axis=1, inplace=True)\n",
    "    if i == 0 :\n",
    "        dfnew = dums\n",
    "    else:\n",
    "        dfnew = pd.concat([dfnew, dums], axis=1)\n",
    "#     print(len(nonnum_cols[col]),len(todrop), 100*len(todrop)/len(nonnum_cols[col]))\n",
    "    i += 1\n",
    "    \n",
    "y = df[\"target\"].values\n",
    "todrop = [\"target\"]\n",
    "for col in nonnum_cols:\n",
    "    if col != \"v22\":\n",
    "        todrop.append(col)\n",
    "df.drop(todrop, axis=1,inplace=True)\n",
    "df = pd.concat([df, dfnew], axis=1)\n",
    "\n",
    "X = df.values"
   ]
  },
  {
   "cell_type": "code",
   "execution_count": 2,
   "metadata": {
    "collapsed": false
   },
   "outputs": [
    {
     "name": "stdout",
     "output_type": "stream",
     "text": [
      "(114321, 432) (114321,)\n"
     ]
    }
   ],
   "source": [
    "print(np.shape(X), np.shape(y))"
   ]
  },
  {
   "cell_type": "code",
   "execution_count": null,
   "metadata": {
    "collapsed": true
   },
   "outputs": [],
   "source": []
  },
  {
   "cell_type": "code",
   "execution_count": null,
   "metadata": {
    "collapsed": true
   },
   "outputs": [],
   "source": []
  },
  {
   "cell_type": "code",
   "execution_count": null,
   "metadata": {
    "collapsed": true
   },
   "outputs": [],
   "source": []
  }
 ],
 "metadata": {
  "anaconda-cloud": {},
  "kernelspec": {
   "display_name": "Python [conda root]",
   "language": "python",
   "name": "conda-root-py"
  },
  "language_info": {
   "codemirror_mode": {
    "name": "ipython",
    "version": 3
   },
   "file_extension": ".py",
   "mimetype": "text/x-python",
   "name": "python",
   "nbconvert_exporter": "python",
   "pygments_lexer": "ipython3",
   "version": "3.5.2"
  }
 },
 "nbformat": 4,
 "nbformat_minor": 1
}
