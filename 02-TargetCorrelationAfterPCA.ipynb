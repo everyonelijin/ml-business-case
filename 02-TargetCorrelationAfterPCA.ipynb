{
 "cells": [
  {
   "cell_type": "code",
   "execution_count": 1,
   "metadata": {
    "collapsed": false
   },
   "outputs": [],
   "source": [
    "%matplotlib inline\n",
    "import numpy as np\n",
    "from scipy import io\n",
    "import matplotlib.pyplot as plt\n",
    "import pandas as pd\n",
    "import seaborn as sns"
   ]
  },
  {
   "cell_type": "code",
   "execution_count": 2,
   "metadata": {
    "collapsed": false
   },
   "outputs": [],
   "source": [
    "data = pd.read_csv('train.csv')\n",
    "data = data.set_index(['ID'])"
   ]
  },
  {
   "cell_type": "code",
   "execution_count": 3,
   "metadata": {
    "collapsed": false
   },
   "outputs": [],
   "source": [
    "X_df = data.ix[:,1:]\n",
    "y_df = data['target']\n",
    "\n",
    "n = X_df.shape[0]\n",
    "d = X_df.shape[1]"
   ]
  },
  {
   "cell_type": "code",
   "execution_count": 4,
   "metadata": {
    "collapsed": false
   },
   "outputs": [],
   "source": [
    "all_columns = X_df.columns.values\n",
    "\n",
    "numeric_columns = X_df.describe().columns.values\n",
    "non_numeric_columns = [x for x in all_columns if x not in numeric_columns]\n",
    "\n",
    "float_columns = X_df.columns[X_df.dtypes == float].values\n",
    "non_float_columns = X_df.columns[X_df.dtypes != float].values"
   ]
  },
  {
   "cell_type": "markdown",
   "metadata": {},
   "source": [
    "# Principal Components Analysis"
   ]
  },
  {
   "cell_type": "code",
   "execution_count": 5,
   "metadata": {
    "collapsed": false
   },
   "outputs": [],
   "source": [
    "X_df = X_df.dropna()\n",
    "y_df = y_df.loc[X_df.index]\n",
    "\n",
    "X = X_df[numeric_columns].values\n",
    "y = y_df.values\n",
    "\n",
    "d = X.shape[1]"
   ]
  },
  {
   "cell_type": "code",
   "execution_count": 6,
   "metadata": {
    "collapsed": false
   },
   "outputs": [
    {
     "name": "stdout",
     "output_type": "stream",
     "text": [
      "Eigenvalue 1 from covariance matrix: 143.53885485726641\n",
      "----------------------------------------\n",
      "Eigenvalue 2 from covariance matrix: 72.27298616417532\n",
      "----------------------------------------\n",
      "Eigenvalue 3 from covariance matrix: 27.824191082184498\n",
      "----------------------------------------\n",
      "Eigenvalue 4 from covariance matrix: 21.503911667485742\n",
      "----------------------------------------\n",
      "Eigenvalue 5 from covariance matrix: 19.402319442711924\n",
      "----------------------------------------\n",
      "Eigenvalue 6 from covariance matrix: 16.453697078622103\n",
      "----------------------------------------\n",
      "Eigenvalue 7 from covariance matrix: 13.176282803681143\n",
      "----------------------------------------\n",
      "Eigenvalue 8 from covariance matrix: 11.231348945774416\n",
      "----------------------------------------\n",
      "Eigenvalue 9 from covariance matrix: 8.446830837522334\n",
      "----------------------------------------\n",
      "Eigenvalue 10 from covariance matrix: 7.554946813674853\n",
      "----------------------------------------\n",
      "Eigenvalue 11 from covariance matrix: 7.149949363319702\n",
      "----------------------------------------\n",
      "Eigenvalue 12 from covariance matrix: 6.098943264395481\n",
      "----------------------------------------\n",
      "Eigenvalue 13 from covariance matrix: 5.381553860541565\n",
      "----------------------------------------\n",
      "Eigenvalue 14 from covariance matrix: 4.925811472897503\n",
      "----------------------------------------\n",
      "Eigenvalue 15 from covariance matrix: 4.480694514939217\n",
      "----------------------------------------\n",
      "Eigenvalue 16 from covariance matrix: 4.103562337859871\n",
      "----------------------------------------\n",
      "Eigenvalue 17 from covariance matrix: 3.285154050954809\n",
      "----------------------------------------\n",
      "Eigenvalue 18 from covariance matrix: 2.8563906665225036\n",
      "----------------------------------------\n",
      "Eigenvalue 19 from covariance matrix: 2.574837042672717\n",
      "----------------------------------------\n",
      "Eigenvalue 20 from covariance matrix: 2.2508149805812088\n",
      "----------------------------------------\n",
      "Eigenvalue 21 from covariance matrix: 1.9983418063350833\n",
      "----------------------------------------\n",
      "Eigenvalue 22 from covariance matrix: 1.6957657652135056\n",
      "----------------------------------------\n",
      "Eigenvalue 23 from covariance matrix: 1.6009549470562385\n",
      "----------------------------------------\n",
      "Eigenvalue 24 from covariance matrix: 1.3501948035159994\n",
      "----------------------------------------\n",
      "Eigenvalue 25 from covariance matrix: 1.4289198093589621\n",
      "----------------------------------------\n",
      "Eigenvalue 26 from covariance matrix: 1.4074179288123767\n",
      "----------------------------------------\n",
      "Eigenvalue 27 from covariance matrix: 1.1095448542151307\n",
      "----------------------------------------\n",
      "Eigenvalue 28 from covariance matrix: 1.0869211255058235\n",
      "----------------------------------------\n",
      "Eigenvalue 29 from covariance matrix: 0.9633928243057969\n",
      "----------------------------------------\n",
      "Eigenvalue 30 from covariance matrix: 0.897869918074619\n",
      "----------------------------------------\n",
      "Eigenvalue 31 from covariance matrix: 0.900685292409224\n",
      "----------------------------------------\n",
      "Eigenvalue 32 from covariance matrix: 0.799671027033077\n",
      "----------------------------------------\n",
      "Eigenvalue 33 from covariance matrix: 0.7780430822435483\n",
      "----------------------------------------\n",
      "Eigenvalue 34 from covariance matrix: 0.6761329929085493\n",
      "----------------------------------------\n",
      "Eigenvalue 35 from covariance matrix: 0.6215471308135153\n",
      "----------------------------------------\n",
      "Eigenvalue 36 from covariance matrix: 0.638365751731963\n",
      "----------------------------------------\n",
      "Eigenvalue 37 from covariance matrix: 0.5721385219283586\n",
      "----------------------------------------\n",
      "Eigenvalue 38 from covariance matrix: 0.5230343618324069\n",
      "----------------------------------------\n",
      "Eigenvalue 39 from covariance matrix: 0.46341003983822704\n",
      "----------------------------------------\n",
      "Eigenvalue 40 from covariance matrix: 0.4106289680589247\n",
      "----------------------------------------\n",
      "Eigenvalue 41 from covariance matrix: 0.3760856128530805\n",
      "----------------------------------------\n",
      "Eigenvalue 42 from covariance matrix: 0.3378332621534012\n",
      "----------------------------------------\n",
      "Eigenvalue 43 from covariance matrix: 0.34808919291348417\n",
      "----------------------------------------\n",
      "Eigenvalue 44 from covariance matrix: 0.28079134820084883\n",
      "----------------------------------------\n",
      "Eigenvalue 45 from covariance matrix: 0.2524155297214424\n",
      "----------------------------------------\n",
      "Eigenvalue 46 from covariance matrix: 0.22169091088314619\n",
      "----------------------------------------\n",
      "Eigenvalue 47 from covariance matrix: 0.208965696826576\n",
      "----------------------------------------\n",
      "Eigenvalue 48 from covariance matrix: 0.20005564297018802\n",
      "----------------------------------------\n",
      "Eigenvalue 49 from covariance matrix: 0.18487135120953876\n",
      "----------------------------------------\n",
      "Eigenvalue 50 from covariance matrix: 0.15914531912532062\n",
      "----------------------------------------\n",
      "Eigenvalue 51 from covariance matrix: 0.15317813661699972\n",
      "----------------------------------------\n",
      "Eigenvalue 52 from covariance matrix: 0.14365940817363623\n",
      "----------------------------------------\n",
      "Eigenvalue 53 from covariance matrix: 0.13629025511949283\n",
      "----------------------------------------\n",
      "Eigenvalue 54 from covariance matrix: 0.1284695371655871\n",
      "----------------------------------------\n",
      "Eigenvalue 55 from covariance matrix: 0.11475389471906462\n",
      "----------------------------------------\n",
      "Eigenvalue 56 from covariance matrix: 0.11307762962771105\n",
      "----------------------------------------\n",
      "Eigenvalue 57 from covariance matrix: 0.10491607678895438\n",
      "----------------------------------------\n",
      "Eigenvalue 58 from covariance matrix: 0.10285746394854034\n",
      "----------------------------------------\n",
      "Eigenvalue 59 from covariance matrix: 0.09050561456380599\n",
      "----------------------------------------\n",
      "Eigenvalue 60 from covariance matrix: 0.09746134493987117\n",
      "----------------------------------------\n",
      "Eigenvalue 61 from covariance matrix: 0.07639820096548693\n",
      "----------------------------------------\n",
      "Eigenvalue 62 from covariance matrix: 0.09438794038617612\n",
      "----------------------------------------\n",
      "Eigenvalue 63 from covariance matrix: 0.09560944815158158\n",
      "----------------------------------------\n",
      "Eigenvalue 64 from covariance matrix: 0.06564470820822557\n",
      "----------------------------------------\n",
      "Eigenvalue 65 from covariance matrix: 0.06436601762295137\n",
      "----------------------------------------\n",
      "Eigenvalue 66 from covariance matrix: 0.050598021118308176\n",
      "----------------------------------------\n",
      "Eigenvalue 67 from covariance matrix: 0.05287494971695925\n",
      "----------------------------------------\n",
      "Eigenvalue 68 from covariance matrix: 0.034640326327348814\n",
      "----------------------------------------\n",
      "Eigenvalue 69 from covariance matrix: 0.03668117822435245\n",
      "----------------------------------------\n",
      "Eigenvalue 70 from covariance matrix: 0.0375160525634828\n",
      "----------------------------------------\n",
      "Eigenvalue 71 from covariance matrix: 0.038247833009277615\n",
      "----------------------------------------\n",
      "Eigenvalue 72 from covariance matrix: 0.03885197915146069\n",
      "----------------------------------------\n",
      "Eigenvalue 73 from covariance matrix: 0.023463867435547087\n",
      "----------------------------------------\n",
      "Eigenvalue 74 from covariance matrix: 0.020053286855128544\n",
      "----------------------------------------\n",
      "Eigenvalue 75 from covariance matrix: 0.018061065192416004\n",
      "----------------------------------------\n",
      "Eigenvalue 76 from covariance matrix: 0.014730845403768955\n",
      "----------------------------------------\n",
      "Eigenvalue 77 from covariance matrix: 0.015332193362430135\n",
      "----------------------------------------\n",
      "Eigenvalue 78 from covariance matrix: 0.012887165597357442\n",
      "----------------------------------------\n",
      "Eigenvalue 79 from covariance matrix: 0.00921178160959677\n",
      "----------------------------------------\n",
      "Eigenvalue 80 from covariance matrix: 0.008845521431184531\n",
      "----------------------------------------\n",
      "Eigenvalue 81 from covariance matrix: 0.008220805488119763\n",
      "----------------------------------------\n",
      "Eigenvalue 82 from covariance matrix: 0.005930707684032384\n",
      "----------------------------------------\n",
      "Eigenvalue 83 from covariance matrix: 0.0061543353029074686\n",
      "----------------------------------------\n",
      "Eigenvalue 84 from covariance matrix: 0.0032374487534525694\n",
      "----------------------------------------\n",
      "Eigenvalue 85 from covariance matrix: 0.0026866169953845076\n",
      "----------------------------------------\n",
      "Eigenvalue 86 from covariance matrix: 0.0025006888051835184\n",
      "----------------------------------------\n",
      "Eigenvalue 87 from covariance matrix: 0.0022176403107068464\n",
      "----------------------------------------\n",
      "Eigenvalue 88 from covariance matrix: 0.0017656409325735305\n",
      "----------------------------------------\n",
      "Eigenvalue 89 from covariance matrix: 0.0018166686655917627\n",
      "----------------------------------------\n",
      "Eigenvalue 90 from covariance matrix: 0.0008412904376399284\n",
      "----------------------------------------\n",
      "Eigenvalue 91 from covariance matrix: 0.0006448236455426995\n",
      "----------------------------------------\n",
      "Eigenvalue 92 from covariance matrix: 0.0005669060439990847\n",
      "----------------------------------------\n",
      "Eigenvalue 93 from covariance matrix: 0.00034289158398693065\n",
      "----------------------------------------\n",
      "Eigenvalue 94 from covariance matrix: 0.0003174010629360617\n",
      "----------------------------------------\n",
      "Eigenvalue 95 from covariance matrix: 0.00013545189193616393\n",
      "----------------------------------------\n",
      "Eigenvalue 96 from covariance matrix: 0.00011417508627113055\n",
      "----------------------------------------\n",
      "Eigenvalue 97 from covariance matrix: 9.672818165535695e-05\n",
      "----------------------------------------\n",
      "Eigenvalue 98 from covariance matrix: 4.439771481085851e-05\n",
      "----------------------------------------\n",
      "Eigenvalue 99 from covariance matrix: 2.3633151264296498e-05\n",
      "----------------------------------------\n",
      "Eigenvalue 100 from covariance matrix: 3.081856659832932e-05\n",
      "----------------------------------------\n",
      "Eigenvalue 101 from covariance matrix: 3.914748847833635e-05\n",
      "----------------------------------------\n",
      "Eigenvalue 102 from covariance matrix: 5.855842237316533e-06\n",
      "----------------------------------------\n",
      "Eigenvalue 103 from covariance matrix: 3.8068485600436693e-06\n",
      "----------------------------------------\n",
      "Eigenvalue 104 from covariance matrix: 5.971046269205671e-08\n",
      "----------------------------------------\n",
      "Eigenvalue 105 from covariance matrix: -1.394505925457356e-16\n",
      "----------------------------------------\n",
      "Eigenvalue 106 from covariance matrix: 3.3760121148375514e-13\n",
      "----------------------------------------\n",
      "Eigenvalue 107 from covariance matrix: 3.2806037644700767e-13\n",
      "----------------------------------------\n",
      "Eigenvalue 108 from covariance matrix: 3.3273180894139587e-13\n",
      "----------------------------------------\n",
      "Eigenvalue 109 from covariance matrix: 1.7364076862374716e-06\n",
      "----------------------------------------\n",
      "Eigenvalue 110 from covariance matrix: 1.4014110563805417e-06\n",
      "----------------------------------------\n",
      "Eigenvalue 111 from covariance matrix: 9.662606577756224e-07\n",
      "----------------------------------------\n",
      "Eigenvalue 112 from covariance matrix: 8.905220751536937e-07\n",
      "----------------------------------------\n"
     ]
    }
   ],
   "source": [
    "mean_vector = np.mean(X, axis=0) \n",
    "cov_mat = np.cov([X[:,i] for i in range(d)])\n",
    "\n",
    "# eigenvectors and eigenvalues for the from the covariance matrix\n",
    "eig_val_cov, eig_vec_cov = np.linalg.eig(cov_mat)\n",
    "\n",
    "for i in range(len(eig_val_cov)):\n",
    "    eigvec_cov = eig_vec_cov[:,i].reshape(1,d).T\n",
    "    print('Eigenvalue {} from covariance matrix: {}'.format(i+1, eig_val_cov[i]))\n",
    "    print(40 * '-')"
   ]
  },
  {
   "cell_type": "code",
   "execution_count": 7,
   "metadata": {
    "collapsed": false
   },
   "outputs": [
    {
     "data": {
      "text/plain": [
       "<matplotlib.text.Text at 0x7f60e41c70f0>"
      ]
     },
     "execution_count": 7,
     "metadata": {},
     "output_type": "execute_result"
    },
    {
     "data": {
      "image/png": "[encoded data removed]",
      "text/plain": [
       "<matplotlib.figure.Figure at 0x7f60e41406a0>"
      ]
     },
     "metadata": {},
     "output_type": "display_data"
    }
   ],
   "source": [
    "plt.plot(eig_val_cov)\n",
    "plt.title(\"PCA applied to dataset\")\n",
    "plt.ylabel(\"Eigenvalues\")\n",
    "plt.xlabel(\"Components\")"
   ]
  },
  {
   "cell_type": "code",
   "execution_count": 8,
   "metadata": {
    "collapsed": false
   },
   "outputs": [
    {
     "name": "stdout",
     "output_type": "stream",
     "text": [
      "With a 0.95 threshold, we reduct 112 dimensions to 23 dimensions.\n"
     ]
    }
   ],
   "source": [
    "tot_eig = np.sum(eig_val_cov)\n",
    "i=0\n",
    "p=0.95\n",
    "actual_sum_eig = eig_val_cov[i]\n",
    "\n",
    "while actual_sum_eig < tot_eig * p:\n",
    "    i+=1\n",
    "    actual_sum_eig += eig_val_cov[i]\n",
    "print (\"With a %0.2f threshold, we reduct %d dimensions to %d dimensions.\" % (p, len(numeric_columns), i+1))\n",
    "reduced_eigvec_cov = eig_vec_cov[:,:i]"
   ]
  },
  {
   "cell_type": "code",
   "execution_count": 9,
   "metadata": {
    "collapsed": false
   },
   "outputs": [],
   "source": [
    "X_reduced = np.dot(X,reduced_eigvec_cov)"
   ]
  },
  {
   "cell_type": "code",
   "execution_count": 10,
   "metadata": {
    "collapsed": false
   },
   "outputs": [],
   "source": [
    "ind1 = np.where(y==1)\n",
    "ind0 = np.where(y==0)"
   ]
  },
  {
   "cell_type": "markdown",
   "metadata": {
    "collapsed": true
   },
   "source": [
    "# Etude relation à la target après PCA"
   ]
  },
  {
   "cell_type": "code",
   "execution_count": 11,
   "metadata": {
    "collapsed": false
   },
   "outputs": [
    {
     "name": "stdout",
     "output_type": "stream",
     "text": [
      "Percentage of 1: 0.10849275286255369\n",
      "Percentage of 0: 0.8915072471374463\n"
     ]
    }
   ],
   "source": [
    "n1 = np.sum(y_df)\n",
    "\n",
    "#print(\"Number of lines: {}\".format(n))\n",
    "print(\"Percentage of 1: {}\".format(n1/n))\n",
    "print(\"Percentage of 0: {}\". format(1-n1/n))"
   ]
  },
  {
   "cell_type": "code",
   "execution_count": 12,
   "metadata": {
    "collapsed": false
   },
   "outputs": [],
   "source": [
    "from scipy.stats import entropy\n",
    "\n",
    "EPSILON = 10e-10\n",
    "\n",
    "col_inf = []\n",
    "th = 0.01\n",
    "KL = []\n",
    "KL_inf = []\n",
    "\n",
    "for i in range(X_reduced.shape[1]):\n",
    "       \n",
    "    c = np.array([v for v in X_reduced[:,i]])\n",
    "    cmin = np.min(c)\n",
    "    cmax = np.max(c)\n",
    "\n",
    "    c1 = np.array([v for v in X_reduced[ind1,i]])\n",
    "    p1 = np.histogram(c1, range=(cmin,cmax), bins=21, normed=True)[0]\n",
    "    \n",
    "    c0 = np.array([v for v in X_reduced[ind0,i]])\n",
    "    p0 = np.histogram(c0, range=(cmin,cmax), bins=21, normed=True)[0]\n",
    "    \n",
    "    #KL distance   \n",
    "    p1 += EPSILON\n",
    "    p0 += EPSILON\n",
    "    KL.append(entropy(p1,p0))    \n",
    "    if entropy(p1,p0) > th:\n",
    "        KL_inf.append(entropy(p1,p0))\n",
    "        col_inf.append(i)"
   ]
  },
  {
   "cell_type": "code",
   "execution_count": 13,
   "metadata": {
    "collapsed": false
   },
   "outputs": [
    {
     "name": "stdout",
     "output_type": "stream",
     "text": [
      "Column 0\n",
      "KL: 0.011089097374215134\n"
     ]
    },
    {
     "name": "stderr",
     "output_type": "stream",
     "text": [
      "/home/corbi/anaconda3/lib/python3.5/site-packages/statsmodels/nonparametric/kdetools.py:20: VisibleDeprecationWarning: using a non-integer number instead of an integer will result in an error in the future\n",
      "  y = X[:m/2+1] + np.r_[0,X[m/2+1:],0]*1j\n"
     ]
    },
    {
     "data": {
      "image/png": "[encoded data removed]",
      "text/plain": [
       "<matplotlib.figure.Figure at 0x7f60e37ea0f0>"
      ]
     },
     "metadata": {},
     "output_type": "display_data"
    },
    {
     "name": "stdout",
     "output_type": "stream",
     "text": [
      "Column 3\n",
      "KL: 0.011369780440198683\n"
     ]
    },
    {
     "data": {
      "image/png": "[encoded data removed]",
      "text/plain": [
       "<matplotlib.figure.Figure at 0x7f60e3cdee48>"
      ]
     },
     "metadata": {},
     "output_type": "display_data"
    },
    {
     "name": "stdout",
     "output_type": "stream",
     "text": [
      "Column 4\n",
      "KL: 0.031472028036567457\n"
     ]
    },
    {
     "data": {
      "image/png": "[encoded data removed]",
      "text/plain": [
       "<matplotlib.figure.Figure at 0x7f60e3b1a470>"
      ]
     },
     "metadata": {},
     "output_type": "display_data"
    },
    {
     "name": "stdout",
     "output_type": "stream",
     "text": [
      "Column 17\n",
      "KL: 0.010273856676307765\n"
     ]
    },
    {
     "data": {
      "image/png": "[encoded data removed]",
      "text/plain": [
       "<matplotlib.figure.Figure at 0x7f60e3e92cc0>"
      ]
     },
     "metadata": {},
     "output_type": "display_data"
    },
    {
     "name": "stdout",
     "output_type": "stream",
     "text": [
      "Column 18\n",
      "KL: 0.010617539873743222\n"
     ]
    },
    {
     "data": {
      "image/png": "[encoded data removed]",
      "text/plain": [
       "<matplotlib.figure.Figure at 0x7f60e3cd44a8>"
      ]
     },
     "metadata": {},
     "output_type": "display_data"
    }
   ],
   "source": [
    "for i,col in enumerate(col_inf):    \n",
    "    c1 = np.array([v for v in X_reduced[ind1,col]])  \n",
    "    c0 = np.array([v for v in X_reduced[ind0,col]])\n",
    "    print(\"Column {}\".format(col))\n",
    "    print(\"KL: {}\".format(KL_inf[i]))\n",
    "    fig, ax = plt.subplots(figsize=(8,3)) \n",
    "    sns.distplot(c1, ax=ax)\n",
    "    sns.distplot(c0, ax=ax)\n",
    "    plt.show()"
   ]
  },
  {
   "cell_type": "code",
   "execution_count": 14,
   "metadata": {
    "collapsed": false
   },
   "outputs": [
    {
     "data": {
      "text/plain": [
       "[0, 3, 4, 17, 18]"
      ]
     },
     "execution_count": 14,
     "metadata": {},
     "output_type": "execute_result"
    }
   ],
   "source": [
    "col_inf"
   ]
  },
  {
   "cell_type": "code",
   "execution_count": null,
   "metadata": {
    "collapsed": true
   },
   "outputs": [],
   "source": []
  }
 ],
 "metadata": {
  "anaconda-cloud": {},
  "kernelspec": {
   "display_name": "Python [default]",
   "language": "python",
   "name": "python3"
  },
  "language_info": {
   "codemirror_mode": {
    "name": "ipython",
    "version": 3
   },
   "file_extension": ".py",
   "mimetype": "text/x-python",
   "name": "python",
   "nbconvert_exporter": "python",
   "pygments_lexer": "ipython3",
   "version": "3.5.2"
  }
 },
 "nbformat": 4,
 "nbformat_minor": 2
}
