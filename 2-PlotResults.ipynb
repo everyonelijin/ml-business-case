{
 "cells": [
  {
   "cell_type": "code",
   "execution_count": 1,
   "metadata": {
    "collapsed": true
   },
   "outputs": [],
   "source": [
    "%matplotlib inline\n",
    "import numpy as np\n",
    "import pandas as pd\n",
    "import matplotlib.pyplot as plt\n",
    "import random\n",
    "from sklearn.metrics import log_loss, accuracy_score, confusion_matrix\n",
    "from tabulate import tabulate"
   ]
  },
  {
   "cell_type": "code",
   "execution_count": 2,
   "metadata": {
    "collapsed": false
   },
   "outputs": [],
   "source": [
    "output = pd.read_csv('validation.csv')\n",
    "y_proba = output[['0','1']].values\n",
    "y_true = output['2'].values"
   ]
  },
  {
   "cell_type": "code",
   "execution_count": 3,
   "metadata": {
    "collapsed": false
   },
   "outputs": [
    {
     "data": {
      "text/plain": [
       "0.63579057083933355"
      ]
     },
     "execution_count": 3,
     "metadata": {},
     "output_type": "execute_result"
    }
   ],
   "source": [
    "log_loss(y_true,y_proba[:,1])"
   ]
  },
  {
   "cell_type": "code",
   "execution_count": 4,
   "metadata": {
    "collapsed": false
   },
   "outputs": [
    {
     "data": {
      "text/plain": [
       "<matplotlib.legend.Legend at 0x7fb4c568bdd8>"
      ]
     },
     "execution_count": 4,
     "metadata": {},
     "output_type": "execute_result"
    },
    {
     "data": {
      "image/png": "[encoded data removed]",
      "text/plain": [
       "<matplotlib.figure.Figure at 0x7fb4c60de860>"
      ]
     },
     "metadata": {},
     "output_type": "display_data"
    }
   ],
   "source": [
    "threshold = np.linspace(0.5,1,50)\n",
    "#threshold = [0.80,0.85,0.90]\n",
    "results=[]\n",
    "results2=[]\n",
    "\n",
    "for t in threshold:\n",
    "    y_pred = (y_proba[:,1]>t).astype(int)\n",
    "    results.append(confusion_matrix(y_true,y_pred)[0,1]/ y_true.shape[0])\n",
    "    results2.append(confusion_matrix(y_true,y_pred)[1,0]/ y_true.shape[0])\n",
    "    \n",
    "plt.plot(threshold,results, label=\"false positive\")\n",
    "plt.plot(threshold,results2,label=\"true positive\")\n",
    "plt.xlabel(\"Threshold\")\n",
    "plt.ylabel(\"Percentage of test dataset\")\n",
    "plt.legend(loc='best')"
   ]
  },
  {
   "cell_type": "code",
   "execution_count": 8,
   "metadata": {
    "collapsed": false
   },
   "outputs": [
    {
     "name": "stdout",
     "output_type": "stream",
     "text": [
      "(0.5, 0.23669363656243167)\n",
      "(0.51020408163265307, 0.23669363656243167)\n",
      "(0.52040816326530615, 0.23669363656243167)\n",
      "(0.53061224489795922, 0.23669363656243167)\n",
      "(0.54081632653061229, 0.23669363656243167)\n",
      "(0.55102040816326525, 0.23669363656243167)\n",
      "(0.56122448979591832, 0.23669363656243167)\n",
      "(0.5714285714285714, 0.23669363656243167)\n",
      "(0.58163265306122447, 0.23660616663022085)\n",
      "(0.59183673469387754, 0.23656243166411545)\n",
      "(0.60204081632653061, 0.23616881696916686)\n",
      "(0.61224489795918369, 0.23520664771484803)\n",
      "(0.62244897959183676, 0.2347255630876886)\n",
      "(0.63265306122448983, 0.2342007434944238)\n",
      "(0.64285714285714279, 0.23385086376558059)\n",
      "(0.65306122448979587, 0.23332604417231576)\n",
      "(0.66326530612244894, 0.23253881478241856)\n",
      "(0.67346938775510201, 0.23192652525694293)\n",
      "(0.68367346938775508, 0.22864640279903783)\n",
      "(0.69387755102040816, 0.22580363000218676)\n",
      "(0.70408163265306123, 0.21250820030614476)\n",
      "(0.7142857142857143, 0.19422698447408704)\n",
      "(0.72448979591836737, 0.18526131642247978)\n",
      "(0.73469387755102034, 0.17319046577738903)\n",
      "(0.74489795918367352, 0.16706757052263285)\n",
      "(0.75510204081632648, 0.15770828777607698)\n",
      "(0.76530612244897955, 0.15071069319921276)\n",
      "(0.77551020408163263, 0.14419418324950797)\n",
      "(0.7857142857142857, 0.13339164662147387)\n",
      "(0.79591836734693877, 0.035031707850426419)\n",
      "(0.80612244897959173, 0.031445440629783515)\n",
      "(0.81632653061224492, 0.025235075442816533)\n",
      "(0.82653061224489788, 0.020730373933960201)\n",
      "(0.83673469387755106, 0.016706757052263283)\n",
      "(0.84693877551020402, 0.012814345068882571)\n",
      "(0.8571428571428571, 0.0087032582549748522)\n",
      "(0.86734693877551017, 0.0057730155259129671)\n",
      "(0.87755102040816324, 0.003411327356221299)\n",
      "(0.88775510204081631, 0.0020555434069538595)\n",
      "(0.89795918367346927, 0.0011371091187404329)\n",
      "(0.90816326530612246, 0.00052481959326481525)\n",
      "(0.91836734693877542, 0.00034987972884321017)\n",
      "(0.9285714285714286, 0.00021867483052700635)\n",
      "(0.93877551020408156, 0.0)\n",
      "(0.94897959183673464, 0.0)\n",
      "(0.95918367346938771, 0.0)\n",
      "(0.96938775510204078, 0.0)\n",
      "(0.97959183673469385, 0.0)\n",
      "(0.98979591836734693, 0.0)\n",
      "(1.0, 0.0)\n"
     ]
    }
   ],
   "source": [
    "for i in (zip(threshold,results)):\n",
    "    print (i)"
   ]
  },
  {
   "cell_type": "code",
   "execution_count": null,
   "metadata": {
    "collapsed": true
   },
   "outputs": [],
   "source": []
  }
 ],
 "metadata": {
  "anaconda-cloud": {},
  "kernelspec": {
   "display_name": "Python [default]",
   "language": "python",
   "name": "python3"
  },
  "language_info": {
   "codemirror_mode": {
    "name": "ipython",
    "version": 3
   },
   "file_extension": ".py",
   "mimetype": "text/x-python",
   "name": "python",
   "nbconvert_exporter": "python",
   "pygments_lexer": "ipython3",
   "version": "3.5.2"
  }
 },
 "nbformat": 4,
 "nbformat_minor": 2
}
